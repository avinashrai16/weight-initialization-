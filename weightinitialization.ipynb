{
  "metadata": {
    "kernelspec": {
      "name": "python",
      "display_name": "Python (Pyodide)",
      "language": "python"
    },
    "language_info": {
      "codemirror_mode": {
        "name": "python",
        "version": 3
      },
      "file_extension": ".py",
      "mimetype": "text/x-python",
      "name": "python",
      "nbconvert_exporter": "python",
      "pygments_lexer": "ipython3",
      "version": "3.8"
    }
  },
  "nbformat_minor": 4,
  "nbformat": 4,
  "cells": [
    {
      "cell_type": "markdown",
      "source": "He Initialization in TensorFlow",
      "metadata": {}
    },
    {
      "cell_type": "code",
      "source": "import tensorflow as tf\nfrom tensorflow.keras import layers, models\n\n# Define a simple model using He initialization\nmodel = models.Sequential([\n    layers.Dense(128, activation='relu', kernel_initializer=tf.keras.initializers.HeNormal(), input_shape=(784,)),\n    layers.Dense(64, activation='relu', kernel_initializer=tf.keras.initializers.HeNormal()),\n    layers.Dense(10, activation='softmax')\n])\n\n# Display the model summary\nmodel.summary()\n",
      "metadata": {
        "trusted": true
      },
      "outputs": [],
      "execution_count": null
    },
    {
      "cell_type": "markdown",
      "source": "He Initialization in PyTorch",
      "metadata": {}
    },
    {
      "cell_type": "code",
      "source": "import torch\nimport torch.nn as nn\nimport torch.nn.init as init\n\n# Define a simple neural network model\nclass SimpleNN(nn.Module):\n    def __init__(self):\n        super(SimpleNN, self).__init__()\n        self.fc1 = nn.Linear(784, 128)\n        self.fc2 = nn.Linear(128, 64)\n        self.fc3 = nn.Linear(64, 10)\n\n        # Apply He initialization to the weights\n        init.kaiming_normal_(self.fc1.weight, nonlinearity='relu')\n        init.kaiming_normal_(self.fc2.weight, nonlinearity='relu')\n        init.kaiming_normal_(self.fc3.weight, nonlinearity='relu')\n\n    def forward(self, x):\n        x = torch.relu(self.fc1(x))\n        x = torch.relu(self.fc2(x))\n        x = self.fc3(x)\n        return x\n\n# Create an instance of the model\nmodel = SimpleNN()\n\n# Print the model architecture\nprint(model)\n",
      "metadata": {
        "trusted": true
      },
      "outputs": [],
      "execution_count": null
    }
  ]
}